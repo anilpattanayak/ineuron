{
 "cells": [
  {
   "cell_type": "markdown",
   "metadata": {},
   "source": [
    "# Assignment 4 Questions"
   ]
  },
  {
   "cell_type": "markdown",
   "metadata": {},
   "source": [
    "## Problem Statement"
   ]
  },
  {
   "cell_type": "markdown",
   "metadata": {},
   "source": [
    "Q.1 Given a sequence of n values x1, x2, ..., xn and a window size k>0, the k-th moving average of\n",
    "the given sequence is defined as follows:\n",
    "\n",
    "The moving average sequence has n-k+1 elements as shown below.\n",
    "The moving averages with k=4 of a ten-value sequence (n=10) is shown below\n",
    "\n",
    "    i 1 2 3 4 5 6 7 8 9 10\n",
    "    ===== == == == == == == == == == ==\n",
    "    Input 10 20 30 40 50 60 70 80 90 100\n",
    "    y1 25 = (10+20+30+40)/4\n",
    "    y2 35 = (20+30+40+50)/4\n",
    "    y3 45 = (30+40+50+60)/4\n",
    "    y4 55 = (40+50+60+70)/4\n",
    "    y5 65 = (50+60+70+80)/4\n",
    "    y6 75 = (60+70+80+90)/4\n",
    "    y7 85 = (70+80+90+100)/4\n",
    "\n",
    "Thus, the moving average sequence has n-k+1=10-4+1=7 values.\n",
    "\n",
    "Write a function to find moving average in an array over a window:\n",
    "\n",
    "Test it over [3, 5, 7, 2, 8, 10, 11, 65, 72, 81, 99, 100, 150] and window of 3."
   ]
  },
  {
   "cell_type": "code",
   "execution_count": 28,
   "metadata": {},
   "outputs": [
    {
     "data": {
      "text/plain": [
       "[5.0,\n",
       " 4.666666666666667,\n",
       " 5.666666666666667,\n",
       " 6.666666666666667,\n",
       " 9.666666666666666,\n",
       " 28.666666666666668,\n",
       " 49.333333333333336,\n",
       " 72.66666666666667,\n",
       " 84.0,\n",
       " 93.33333333333333,\n",
       " 116.33333333333333]"
      ]
     },
     "execution_count": 28,
     "metadata": {},
     "output_type": "execute_result"
    }
   ],
   "source": [
    "import numpy as np\n",
    "def moving_avg(x,k):\n",
    "    length=len(x)\n",
    "    elements=length-k+1\n",
    "    y=[sum(x[i:i+k])/k for i in range(elements)]\n",
    "    return(y)\n",
    "\n",
    "x=np.array([3, 5, 7, 2, 8, 10, 11, 65, 72, 81, 99, 100, 150])\n",
    "moving_avg( x ,3)\n",
    "#y=[10,20,30,40,50,60,70,80,90,100]\n",
    "#moving_avg( y ,4)"
   ]
  },
  {
   "cell_type": "markdown",
   "metadata": {},
   "source": [
    "Q.2 How-to-count-distance-to-the-previous-zero\n",
    "For each value, count the difference back to the previous zero (or the start of the Series,\n",
    "whichever is closer)\n",
    "create a new column 'Y'\n",
    "Consider a DataFrame df where there is an integer column 'X'\n",
    "    \n",
    "    import pandas as pd\n",
    "    df = pd.DataFrame({'X': [7, 2, 0, 3, 4, 2, 5, 0, 3, 4]})"
   ]
  },
  {
   "cell_type": "code",
   "execution_count": 29,
   "metadata": {},
   "outputs": [
    {
     "data": {
      "text/html": [
       "<div>\n",
       "<style scoped>\n",
       "    .dataframe tbody tr th:only-of-type {\n",
       "        vertical-align: middle;\n",
       "    }\n",
       "\n",
       "    .dataframe tbody tr th {\n",
       "        vertical-align: top;\n",
       "    }\n",
       "\n",
       "    .dataframe thead th {\n",
       "        text-align: right;\n",
       "    }\n",
       "</style>\n",
       "<table border=\"1\" class=\"dataframe\">\n",
       "  <thead>\n",
       "    <tr style=\"text-align: right;\">\n",
       "      <th></th>\n",
       "      <th>X</th>\n",
       "      <th>Y</th>\n",
       "    </tr>\n",
       "  </thead>\n",
       "  <tbody>\n",
       "    <tr>\n",
       "      <th>0</th>\n",
       "      <td>7</td>\n",
       "      <td>1</td>\n",
       "    </tr>\n",
       "    <tr>\n",
       "      <th>1</th>\n",
       "      <td>2</td>\n",
       "      <td>2</td>\n",
       "    </tr>\n",
       "    <tr>\n",
       "      <th>2</th>\n",
       "      <td>0</td>\n",
       "      <td>0</td>\n",
       "    </tr>\n",
       "    <tr>\n",
       "      <th>3</th>\n",
       "      <td>3</td>\n",
       "      <td>1</td>\n",
       "    </tr>\n",
       "    <tr>\n",
       "      <th>4</th>\n",
       "      <td>4</td>\n",
       "      <td>2</td>\n",
       "    </tr>\n",
       "    <tr>\n",
       "      <th>5</th>\n",
       "      <td>2</td>\n",
       "      <td>3</td>\n",
       "    </tr>\n",
       "    <tr>\n",
       "      <th>6</th>\n",
       "      <td>5</td>\n",
       "      <td>4</td>\n",
       "    </tr>\n",
       "    <tr>\n",
       "      <th>7</th>\n",
       "      <td>0</td>\n",
       "      <td>0</td>\n",
       "    </tr>\n",
       "    <tr>\n",
       "      <th>8</th>\n",
       "      <td>3</td>\n",
       "      <td>1</td>\n",
       "    </tr>\n",
       "    <tr>\n",
       "      <th>9</th>\n",
       "      <td>4</td>\n",
       "      <td>2</td>\n",
       "    </tr>\n",
       "  </tbody>\n",
       "</table>\n",
       "</div>"
      ],
      "text/plain": [
       "   X  Y\n",
       "0  7  1\n",
       "1  2  2\n",
       "2  0  0\n",
       "3  3  1\n",
       "4  4  2\n",
       "5  2  3\n",
       "6  5  4\n",
       "7  0  0\n",
       "8  3  1\n",
       "9  4  2"
      ]
     },
     "execution_count": 29,
     "metadata": {},
     "output_type": "execute_result"
    }
   ],
   "source": [
    "import pandas as pd\n",
    "df = pd.DataFrame({'X': [7, 2, 0, 3, 4, 2, 5, 0, 3, 4]})\n",
    "df['Y']=0\n",
    "j=0\n",
    "for i in range(len(df['X'])):\n",
    "    if(df.iloc[i,0]!=0):\n",
    "        j +=1\n",
    "        df.iloc[i,1]= j\n",
    "    else:\n",
    "        df.iloc[i,1]= 0\n",
    "        j=0\n",
    "df\n"
   ]
  },
  {
   "cell_type": "markdown",
   "metadata": {},
   "source": [
    "Q.3 Create a DatetimeIndex that contains each business day of 2015 and use it to index a Series of\n",
    "random numbers."
   ]
  },
  {
   "cell_type": "code",
   "execution_count": 30,
   "metadata": {},
   "outputs": [
    {
     "name": "stdout",
     "output_type": "stream",
     "text": [
      "2015-01-01    0.323588\n",
      "2015-01-02   -0.884802\n",
      "2015-01-03    0.000520\n",
      "2015-01-04    0.363861\n",
      "2015-01-05   -1.432749\n",
      "2015-01-06    0.007465\n",
      "2015-01-07    0.346719\n",
      "2015-01-08   -0.377215\n",
      "2015-01-09    0.249935\n",
      "2015-01-10    1.031348\n",
      "2015-01-11   -0.729752\n",
      "2015-01-12   -1.473999\n",
      "2015-01-13    0.473047\n",
      "2015-01-14    0.239297\n",
      "2015-01-15   -0.071590\n",
      "2015-01-16    3.556085\n",
      "2015-01-17    0.787427\n",
      "2015-01-18   -0.861192\n",
      "2015-01-19   -0.168057\n",
      "2015-01-20   -1.309355\n",
      "2015-01-21    0.268539\n",
      "2015-01-22    0.208804\n",
      "2015-01-23   -0.605492\n",
      "2015-01-24    0.772067\n",
      "2015-01-25    0.750331\n",
      "2015-01-26   -0.265574\n",
      "2015-01-27    0.545730\n",
      "2015-01-28    1.239805\n",
      "2015-01-29    1.927740\n",
      "2015-01-30   -0.784726\n",
      "                ...   \n",
      "2015-12-02    2.109907\n",
      "2015-12-03    1.425921\n",
      "2015-12-04   -0.145858\n",
      "2015-12-05   -0.312562\n",
      "2015-12-06    1.351262\n",
      "2015-12-07    0.360430\n",
      "2015-12-08   -1.044257\n",
      "2015-12-09   -0.642289\n",
      "2015-12-10    0.317515\n",
      "2015-12-11    0.244561\n",
      "2015-12-12   -0.382334\n",
      "2015-12-13   -0.766165\n",
      "2015-12-14    1.093959\n",
      "2015-12-15    0.669606\n",
      "2015-12-16   -1.460592\n",
      "2015-12-17    1.658766\n",
      "2015-12-18   -1.345436\n",
      "2015-12-19    0.724070\n",
      "2015-12-20   -0.206216\n",
      "2015-12-21   -0.898793\n",
      "2015-12-22   -0.848558\n",
      "2015-12-23   -0.906122\n",
      "2015-12-24    0.593185\n",
      "2015-12-25    1.518093\n",
      "2015-12-26    0.231891\n",
      "2015-12-27    0.453984\n",
      "2015-12-28   -0.080233\n",
      "2015-12-29    1.419545\n",
      "2015-12-30   -0.416845\n",
      "2015-12-31   -0.223540\n",
      "Freq: D, Length: 365, dtype: float64\n"
     ]
    }
   ],
   "source": [
    "import pandas as pd\n",
    "dates=pd.date_range('1/1/2015', periods=365)\n",
    "numbers=pd.Series(np.random.randn(365),index=dates)\n",
    "print(numbers)"
   ]
  },
  {
   "cell_type": "markdown",
   "metadata": {},
   "source": [
    "Q.4 "
   ]
  }
 ],
 "metadata": {
  "kernelspec": {
   "display_name": "Python 3",
   "language": "python",
   "name": "python3"
  },
  "language_info": {
   "codemirror_mode": {
    "name": "ipython",
    "version": 3
   },
   "file_extension": ".py",
   "mimetype": "text/x-python",
   "name": "python",
   "nbconvert_exporter": "python",
   "pygments_lexer": "ipython3",
   "version": "3.7.1"
  }
 },
 "nbformat": 4,
 "nbformat_minor": 2
}
