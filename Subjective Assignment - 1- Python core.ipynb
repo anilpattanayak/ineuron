{
 "cells": [
  {
   "cell_type": "markdown",
   "metadata": {},
   "source": [
    "Q1. Write a Python program to get the string from the given string where\n",
    "all the occurrence of its first char has been changed to '$,' except first\n",
    "char itself?\n",
    "\n",
    "    Sample String: 'prospect'\n",
    "    Expected Result : 'pros$ect'\n"
   ]
  },
  {
   "cell_type": "code",
   "execution_count": 41,
   "metadata": {},
   "outputs": [
    {
     "name": "stdout",
     "output_type": "stream",
     "text": [
      "enter a string with lowercase : anilpattanayak\n"
     ]
    },
    {
     "data": {
      "text/plain": [
       "'anilp$tt$n$y$k'"
      ]
     },
     "execution_count": 41,
     "metadata": {},
     "output_type": "execute_result"
    }
   ],
   "source": [
    "in_str= input('enter a string with lowercase : ')\n",
    "letter1=in_str[0]\n",
    "in_str=in_str.replace(letter1,'$')\n",
    "out_str=letter1 + in_str[1:]\n",
    "out_str"
   ]
  },
  {
   "cell_type": "markdown",
   "metadata": {},
   "source": [
    "Q2. Write a Python program to get the single string from the two given\n",
    "strings, and separated by the space and swap the first two characters of\n",
    "each string?\n",
    "\n",
    "    Sample String : 'abc', 'xyz'.\n",
    "    Expected Result: 'xyc abz'"
   ]
  },
  {
   "cell_type": "code",
   "execution_count": 42,
   "metadata": {},
   "outputs": [
    {
     "name": "stdout",
     "output_type": "stream",
     "text": [
      "enter first string : abc\n",
      "enter second string : xyz\n"
     ]
    },
    {
     "data": {
      "text/plain": [
       "'xyc abz'"
      ]
     },
     "execution_count": 42,
     "metadata": {},
     "output_type": "execute_result"
    }
   ],
   "source": [
    "string1=input('enter first string : ')\n",
    "string2=input('enter second string : ')\n",
    "s1=string2[0:2]\n",
    "s2=string1[0:2]\n",
    "string3= s1+ string1[2:]+' ' + s2 + string2[2:]\n",
    "string3"
   ]
  },
  {
   "cell_type": "markdown",
   "metadata": {},
   "source": [
    "Q3. Write the Python program to add 'ing' at the end of the given string\n",
    "(length of the string should be at least 3). If given string already ends\n",
    "with 'ing,' then add 'ly' instead. If string length of the given string is less\n",
    "than 3, leave it unchanged?\n",
    "\n",
    "\n",
    "    Sample string: ' abc '\n",
    "    Expected result: ' abcing '\n",
    "    Sample string: ' string '\n",
    "    Expected result: ' stringly '\n"
   ]
  },
  {
   "cell_type": "code",
   "execution_count": 44,
   "metadata": {},
   "outputs": [
    {
     "name": "stdout",
     "output_type": "stream",
     "text": [
      "enter a string : string\n"
     ]
    },
    {
     "data": {
      "text/plain": [
       "'stringly'"
      ]
     },
     "execution_count": 44,
     "metadata": {},
     "output_type": "execute_result"
    }
   ],
   "source": [
    "string= input('enter a string : ')\n",
    "if len(string) <3:\n",
    "    string1=string\n",
    "else:\n",
    "    if (string[-3::1]=='ing'):\n",
    "        string1=string + 'ly'\n",
    "    else:\n",
    "        string1=string + 'ing'\n",
    "        \n",
    "string1"
   ]
  },
  {
   "cell_type": "markdown",
   "metadata": {},
   "source": [
    "Q4. Write the Python program to find the first appearance of the\n",
    "substring 'not' and 'poor' from the given string, if 'not' follows the 'poor',\n",
    "replace the whole 'not'...' poor' substring with 'good'.Return the resulting\n",
    "string.\n",
    "\n",
    "    Sample string: 'The lyrics are not that poor!'\n",
    "    'The lyrics are poor!'\n",
    "    Expected Result: 'The lyrics are good!'\n",
    "    'The lyrics are poor!'"
   ]
  },
  {
   "cell_type": "code",
   "execution_count": 45,
   "metadata": {},
   "outputs": [
    {
     "name": "stdout",
     "output_type": "stream",
     "text": [
      "enter the string :The lyrics are not that poor!\n",
      "The lyrics are good !\n"
     ]
    }
   ],
   "source": [
    "str1= input('enter the string :')\n",
    "result1= str1.find('not')\n",
    "result2=str1.find('poor')\n",
    "if (result1==-1 or result2==-1):\n",
    "    print(str1)\n",
    "else:\n",
    "    if (result1< result2):\n",
    "        str1=str1[:(result1)] + 'good ' + str1[(result2+4):] \n",
    "        print(str1)\n",
    "    else:\n",
    "        print(str1)"
   ]
  },
  {
   "cell_type": "markdown",
   "metadata": {},
   "source": [
    "Q5. Write the Python program to remove the characters which have odd\n",
    "index values of a given string."
   ]
  },
  {
   "cell_type": "code",
   "execution_count": 46,
   "metadata": {},
   "outputs": [
    {
     "name": "stdout",
     "output_type": "stream",
     "text": [
      "enter the string :biswajit\n"
     ]
    },
    {
     "data": {
      "text/plain": [
       "'bsai'"
      ]
     },
     "execution_count": 46,
     "metadata": {},
     "output_type": "execute_result"
    }
   ],
   "source": [
    "str1= input('enter the string :')\n",
    "str1=str1[0: :2]\n",
    "str1"
   ]
  },
  {
   "cell_type": "markdown",
   "metadata": {},
   "source": [
    "Q6. Write the python program to print the following floating numbers up\n",
    "to 2 decimal places?"
   ]
  },
  {
   "cell_type": "code",
   "execution_count": 47,
   "metadata": {},
   "outputs": [
    {
     "name": "stdout",
     "output_type": "stream",
     "text": [
      "please enter a number: 1234.3421\n",
      "1234.34\n"
     ]
    }
   ],
   "source": [
    "number= float(input('please enter a number: '))\n",
    "print(\"{0:.2f}\".format(number))"
   ]
  },
  {
   "cell_type": "markdown",
   "metadata": {},
   "source": [
    "Q7. Write the Python program to format a number with a percentage?"
   ]
  },
  {
   "cell_type": "code",
   "execution_count": 49,
   "metadata": {},
   "outputs": [
    {
     "name": "stdout",
     "output_type": "stream",
     "text": [
      "please enter a number  : 0.123\n",
      "Formatted Number with percentage: 12.30%\n"
     ]
    }
   ],
   "source": [
    "number= float(input('please enter a number  : '))\n",
    "print(\"Formatted Number with percentage: \"+\"{:.2%}\".format(number))"
   ]
  },
  {
   "cell_type": "markdown",
   "metadata": {},
   "source": [
    "Q8. Write the Python program to count occurrences of a substring in a\n",
    "String?"
   ]
  },
  {
   "cell_type": "code",
   "execution_count": 12,
   "metadata": {},
   "outputs": [
    {
     "name": "stdout",
     "output_type": "stream",
     "text": [
      "enter main string:  Write the Python program to print the square and cube symbol in The area of a rectangle and volume of a cylinder?\n",
      "enter substring: THE\n",
      "3\n"
     ]
    }
   ],
   "source": [
    "string1= str.lower (input ('enter main string: '))\n",
    "string2= str.lower (input ('enter substring: '))\n",
    "print(string1.count(string2))"
   ]
  },
  {
   "cell_type": "markdown",
   "metadata": {},
   "source": [
    "Q9. Write the Python program to count repeated characters in a string.\n",
    "\n",
    "    Sample string: ' thequickbrownjumpsoverthelazydog '\n",
    "    \n",
    "    Expected output:\n",
    "    o 3\n",
    "    e 3\n",
    "    u 2\n",
    "    h 2\n",
    "    r 2\n",
    "    t 2"
   ]
  },
  {
   "cell_type": "code",
   "execution_count": 13,
   "metadata": {},
   "outputs": [
    {
     "name": "stdout",
     "output_type": "stream",
     "text": [
      " enter the string: anil kumar pattanayak\n",
      "   2\n",
      "k  2\n",
      "t  2\n",
      "a  6\n",
      "n  2\n"
     ]
    }
   ],
   "source": [
    "str1=input (' enter the string: ')\n",
    "x={letter for letter in str1}\n",
    "for letter in x:\n",
    "    if(str1.count(letter)>1):\n",
    "        print (letter + '  ' + str (str1.count(letter)))"
   ]
  },
  {
   "cell_type": "markdown",
   "metadata": {},
   "source": [
    "Q10. Write the Python program to print the square and cube symbol in\n",
    "the area of a rectangle and volume of a cylinder?\n",
    "\n",
    "    Sample outputThe area of the rectangle is 1256.66cm2\n",
    "    The volume of the cylinder is 1254.725cm3\n"
   ]
  },
  {
   "cell_type": "code",
   "execution_count": 40,
   "metadata": {},
   "outputs": [
    {
     "name": "stdout",
     "output_type": "stream",
     "text": [
      "enter the length of Rectangular:  12.44\n",
      "enter the width of Rectangular:  10.00\n",
      "enter the Radius of cylinder:  23.45\n",
      "enter the height of cylinder:  12.43\n",
      "The area of the rectangle is 124.4\n",
      "The volume of the cylinder is 21473.691\n"
     ]
    }
   ],
   "source": [
    "import math as m\n",
    "length= float(input('enter the length of Rectangular:  '))\n",
    "width= float(input('enter the width of Rectangular:  '))\n",
    "base=float(input('enter the Radius of cylinder:  '))\n",
    "height=float(input('enter the height of cylinder:  '))\n",
    "\n",
    "print('The area of the rectangle is '+ str(round(length*width,2)))\n",
    "print('The volume of the cylinder is ' + str(round(m.pi*base*base*height,3)))"
   ]
  },
  {
   "cell_type": "markdown",
   "metadata": {},
   "source": [
    "Q11. Write the Python program to check if a string contains all letters of\n",
    "the alphabet?"
   ]
  },
  {
   "cell_type": "code",
   "execution_count": 51,
   "metadata": {},
   "outputs": [
    {
     "name": "stdout",
     "output_type": "stream",
     "text": [
      "please enter a string: efhergjrthpk ghnh\n",
      "all letter of the alphabets are not there \n"
     ]
    }
   ],
   "source": [
    "my_string=input('please enter a string: ')\n",
    "\n",
    "x={letter.lower() for letter in my_string}\n",
    "y=[]\n",
    "for i in x:\n",
    "    if (i.isalpha()==1):\n",
    "        y.append(i)\n",
    "if(len(y)==26):\n",
    "    print('all letter of the alphabets are there')\n",
    "else:\n",
    "    print('all letter of the alphabets are not there ')"
   ]
  },
  {
   "cell_type": "markdown",
   "metadata": {},
   "source": [
    "Q12. Write the Python program to find the second most repeated word\n",
    "in a given string?"
   ]
  },
  {
   "cell_type": "code",
   "execution_count": 52,
   "metadata": {},
   "outputs": [
    {
     "name": "stdout",
     "output_type": "stream",
     "text": [
      " enter a string: Write the Python program to find the minimum window in the given string, which will contains all the characters of another given strings?\n",
      "given\n"
     ]
    }
   ],
   "source": [
    "my_string= str.lower(input (' enter a string: '))\n",
    "words=my_string.lower().split()\n",
    "count={}\n",
    "\n",
    "for word in words:\n",
    "    if word in count:\n",
    "        count[word] +=1\n",
    "    else:\n",
    "        count[word]=1\n",
    "\n",
    "sort_items=sorted(count.items(), key=lambda item: item[1])\n",
    "#print(sort_items)\n",
    "print(sort_items[-2][0])\n"
   ]
  },
  {
   "cell_type": "markdown",
   "metadata": {},
   "source": [
    "Q13. Write the Python program to find the minimum window in the given\n",
    "string, which will contains all the characters of another given\n",
    "strings?\n",
    "\n",
    "    Example 1\n",
    "    Input : string1 = \" PRWSOERIUSFK \"\n",
    "    string2 = \" OSU \"\n",
    "    Output: Minimum window is \"OERIUS\""
   ]
  },
  {
   "cell_type": "code",
   "execution_count": 53,
   "metadata": {},
   "outputs": [
    {
     "name": "stdout",
     "output_type": "stream",
     "text": [
      "string 1 : PRWSOERIUSFK\n",
      "string 2:  OSU\n",
      "Minimum window:\n",
      "OERIUS\n"
     ]
    }
   ],
   "source": [
    "import collections\n",
    "def min_wind(string1, string2):\n",
    "    result_char, missing_char = collections.Counter(string2), len(string2)\n",
    "    i = p = q = 0\n",
    "    for j, c in enumerate(string1, 1):\n",
    "        missing_char -= result_char[c] > 0\n",
    "        result_char[c] -= 1\n",
    "        if not missing_char:\n",
    "            while i < q and result_char[string1[i]] < 0:\n",
    "                result_char[string1[i]] += 1\n",
    "                i += 1\n",
    "            if not q or j - i <= q - p:\n",
    "                p, q = i, j\n",
    "    return string1[p:q]\n",
    "           \n",
    "string1 = \"PRWSOERIUSFK\"\n",
    "string2 = \"OSU\"\n",
    "\n",
    "print(\"string 1 :\", string1)\n",
    "print (\"string 2: \",string2)\n",
    "\n",
    "print(\"Minimum window:\")\n",
    "print(min_wind(string1,string2))"
   ]
  },
  {
   "cell_type": "markdown",
   "metadata": {},
   "source": [
    "Q14. Write the Python program to count number of substrings from a\n",
    "given string of lowercase alphabets with exactly k distinct (given)\n",
    "characters?\n",
    "\n",
    "    Input a string (lowercase alphabets): wolf\n",
    "    Input k: 4\n",
    "    Number of substrings with exactly 4 distinct characters: 1"
   ]
  },
  {
   "cell_type": "code",
   "execution_count": 18,
   "metadata": {},
   "outputs": [
    {
     "name": "stdout",
     "output_type": "stream",
     "text": [
      "enter the string: wolf\n",
      "enter k value: 4\n",
      "Total substrings with exactly 4 distinct characters : 1\n"
     ]
    }
   ],
   "source": [
    "str1= input ('enter the string: ')\n",
    "k=int (input('enter k value: '))\n",
    "n = len(str1) \n",
    "res = 0\n",
    "cnt = [0] * 27\n",
    "for i in range(0, n): \n",
    "    dist_count = 0\n",
    "    cnt = [0] * 27\n",
    "    for j in range(i, n): \n",
    "        if(cnt[ord(str1[j]) - 97] == 0): \n",
    "                dist_count += 1\n",
    "        cnt[ord(str1[j]) - 97] += 1\n",
    "        if(dist_count == k): \n",
    "            res += 1\n",
    "        if(dist_count > k): \n",
    "            break\n",
    "print('Total substrings with exactly ' + str(k) + ' distinct characters :' , res)"
   ]
  },
  {
   "cell_type": "markdown",
   "metadata": {},
   "source": [
    "Q15. Write the Python program to count number of substrings with same\n",
    "first and last characters of the given string?\n",
    "\n",
    "    Input a string: abcd\n",
    "    4\n"
   ]
  },
  {
   "cell_type": "code",
   "execution_count": 54,
   "metadata": {},
   "outputs": [
    {
     "name": "stdout",
     "output_type": "stream",
     "text": [
      "enter a string: abcabb\n",
      "10\n"
     ]
    }
   ],
   "source": [
    "my_string=input('enter a string: ')\n",
    "count=0\n",
    "for i in range(len(my_string)):\n",
    "    for j in range(i,len(my_string)):\n",
    "        if (my_string[i]==my_string[j]):\n",
    "            count +=1\n",
    "print(count)"
   ]
  },
  {
   "cell_type": "markdown",
   "metadata": {},
   "source": [
    "## Great Job!"
   ]
  }
 ],
 "metadata": {
  "kernelspec": {
   "display_name": "Python 3",
   "language": "python",
   "name": "python3"
  },
  "language_info": {
   "codemirror_mode": {
    "name": "ipython",
    "version": 3
   },
   "file_extension": ".py",
   "mimetype": "text/x-python",
   "name": "python",
   "nbconvert_exporter": "python",
   "pygments_lexer": "ipython3",
   "version": "3.7.1"
  }
 },
 "nbformat": 4,
 "nbformat_minor": 2
}
