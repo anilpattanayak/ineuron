{
 "cells": [
  {
   "cell_type": "markdown",
   "metadata": {},
   "source": [
    "# Assignment"
   ]
  },
  {
   "cell_type": "markdown",
   "metadata": {},
   "source": [
    "Q1. Write the NumPy program to create an array of ones and an array\n",
    "of zeros?\n",
    "\n",
    "    Expected OutputCreate an array of zeros\n",
    "    Default type is float\n",
    "    [[ 0. 0.]]\n",
    "    Type changes to int\n",
    "    [[0 0]]\n",
    "    Create an array of ones\n",
    "    Default type is float\n",
    "    [[ 1. 1.]]\n",
    "    Type changes to int\n",
    "    [[1 1]]"
   ]
  },
  {
   "cell_type": "code",
   "execution_count": 25,
   "metadata": {},
   "outputs": [
    {
     "name": "stdout",
     "output_type": "stream",
     "text": [
      "Default type is float [[0. 0.]]\n",
      "Type changes to int [[0 0]]\n",
      "Default type is float [[1. 1.]]\n",
      "Type changes to int [[1 1]]\n"
     ]
    }
   ],
   "source": [
    "import numpy as np\n",
    "print('Default type is float', np.zeros((1,2)))\n",
    "print('Type changes to int', np.zeros((1,2), dtype=int))\n",
    "print('Default type is float', np.ones((1,2)))\n",
    "print('Type changes to int', np.ones((1,2), dtype=int))"
   ]
  },
  {
   "cell_type": "markdown",
   "metadata": {},
   "source": [
    "Q2. Write the NumPy program to change the dimension of an array?\n",
    "\n",
    "    Expected Output6 rows and 0 columns\n",
    "    (6,)\n",
    "    (3, 3) -> 3 rows and 3 columns\n",
    "    [[1 2 3]\n",
    "    [4 5 6]\n",
    "    [7 8 9]]\n",
    "    Change array shape to (3, 3) -> 3 rows and 3 columns\n",
    "    [[1 2 3]\n",
    "    [4 5 6]\n",
    "    [7 8 9]]"
   ]
  },
  {
   "cell_type": "code",
   "execution_count": 26,
   "metadata": {},
   "outputs": [
    {
     "name": "stdout",
     "output_type": "stream",
     "text": [
      "Expected Output9 rows and 0 columns (9,)\n",
      "Change array shape to (3, 3) -> 3 rows and 3 columns \n",
      " [[1 2 3]\n",
      " [4 5 6]\n",
      " [7 8 9]]\n"
     ]
    }
   ],
   "source": [
    "x=np.arange(1,10)\n",
    "print(\"Expected Output9 rows and 0 columns\", x.shape)\n",
    "y=x.reshape(3,3)\n",
    "print(\"Change array shape to (3, 3) -> 3 rows and 3 columns \\n\", y)"
   ]
  },
  {
   "cell_type": "markdown",
   "metadata": {},
   "source": [
    "Q3. Write the NumPy program to create a new shape to an array\n",
    "without changing its data ?\n",
    "\n",
    "    Reshape 3x2-\n",
    "    [[1 2]\n",
    "    [3 4]\n",
    "    [5 6]]\n",
    "    Reshape 2x3-\n",
    "    [[1 2 3]\n",
    "    [4 5 6]]"
   ]
  },
  {
   "cell_type": "code",
   "execution_count": 27,
   "metadata": {},
   "outputs": [
    {
     "name": "stdout",
     "output_type": "stream",
     "text": [
      "[[1 2 3]\n",
      " [4 5 6]]\n"
     ]
    }
   ],
   "source": [
    "x=np.array([[1,2],[3,4],[5,6]])\n",
    "print(x.reshape(2,3))"
   ]
  },
  {
   "cell_type": "markdown",
   "metadata": {},
   "source": [
    "Q4. Write the NumPy program to create a new array of 3*5, filled with\n",
    "2?\n",
    "\n",
    "    Expected Output-\n",
    "    [[2 2 2 2 2]\n",
    "    [2 2 2 2 2]\n",
    "    [2 2 2 2 2]]\n",
    "    [[2 2 2 2 2]\n",
    "    [2 2 2 2 2]\n",
    "    [2 2 2 2 2]]"
   ]
  },
  {
   "cell_type": "code",
   "execution_count": 28,
   "metadata": {},
   "outputs": [
    {
     "name": "stdout",
     "output_type": "stream",
     "text": [
      "[[2 2 2 2 2]\n",
      " [2 2 2 2 2]\n",
      " [2 2 2 2 2]]\n"
     ]
    }
   ],
   "source": [
    "x=np.full((3,5),2)\n",
    "print(x)"
   ]
  },
  {
   "cell_type": "markdown",
   "metadata": {},
   "source": [
    "Q5. Write the NumPy program to create a 3-D array with ones on a\n",
    "diagonal and zeros elsewhere?\n",
    "\n",
    "    Expected Output-\n",
    "    [[ 1. 0. 0.]\n",
    "    [ 0. 1. 0.]\n",
    "    [ 0. 0. 1.]]"
   ]
  },
  {
   "cell_type": "code",
   "execution_count": 29,
   "metadata": {},
   "outputs": [
    {
     "name": "stdout",
     "output_type": "stream",
     "text": [
      "[[1. 0. 0.]\n",
      " [0. 1. 0.]\n",
      " [0. 0. 1.]]\n"
     ]
    }
   ],
   "source": [
    "x=np.eye(3)\n",
    "print(x)"
   ]
  },
  {
   "cell_type": "markdown",
   "metadata": {},
   "source": [
    "Q6. Write the NumPy program to split an array of 14 elements into the\n",
    "3 arrays and each of which has 2, 4, and 8 elements in original\n",
    "order?\n",
    "\n",
    "    Expected OutputOriginal array- [ 1 2 3 4 5 6 7 8 9 10 11 12 13 14]\n",
    "    After splitting-\n",
    "    [array([1, 2]), array([3, 4, 5, 6]), array([ 7, 8, 9, 10, 11, 12, 13, 14])]"
   ]
  },
  {
   "cell_type": "code",
   "execution_count": 30,
   "metadata": {},
   "outputs": [
    {
     "name": "stdout",
     "output_type": "stream",
     "text": [
      "Original array- [ 1  2  3  4  5  6  7  8  9 10 11 12 13 14]\n",
      "After splitting-\n",
      "[array([1, 2]), array([3, 4, 5, 6]), array([ 7,  8,  9, 10, 11, 12, 13, 14])]\n"
     ]
    }
   ],
   "source": [
    "x = np.arange(1, 15)\n",
    "print(\"Original array-\",x)\n",
    "print(\"After splitting-\")\n",
    "print(np.split(x, [2, 6]))"
   ]
  },
  {
   "cell_type": "markdown",
   "metadata": {},
   "source": [
    "Q7. Write the NumPy program to split of an array of shape 4x4 it into\n",
    "two arrays along the second axis ?\n",
    "\n",
    "    Sample array -\n",
    "    [[ 0 1 2 3]\n",
    "    [ 4 5 6 7]\n",
    "    [ 8 9 10 11]\n",
    "    [12 13 14 15]]\n",
    "    Expected Output-\n",
    "    [array([[ 0, 1],\n",
    "    [ 4, 5],\n",
    "    [ 8, 9],\n",
    "    [12, 13]]), array([[ 2, 3],\n",
    "    [ 6, 7],\n",
    "    [10, 11],\n",
    "    [14, 15]]), array([], shape=(4, 0), dtype=int64)]"
   ]
  },
  {
   "cell_type": "code",
   "execution_count": 31,
   "metadata": {},
   "outputs": [
    {
     "name": "stdout",
     "output_type": "stream",
     "text": [
      "Sample array- \n",
      " [[ 0  1  2  3]\n",
      " [ 4  5  6  7]\n",
      " [ 8  9 10 11]\n",
      " [12 13 14 15]]\n"
     ]
    },
    {
     "data": {
      "text/plain": [
       "[array([[ 0,  1],\n",
       "        [ 4,  5],\n",
       "        [ 8,  9],\n",
       "        [12, 13]]), array([[ 2,  3],\n",
       "        [ 6,  7],\n",
       "        [10, 11],\n",
       "        [14, 15]])]"
      ]
     },
     "execution_count": 31,
     "metadata": {},
     "output_type": "execute_result"
    }
   ],
   "source": [
    "x=np.arange(16)\n",
    "x.shape=(4,4)\n",
    "print(\"Sample array- \\n\",x)\n",
    "np.hsplit(x,2)"
   ]
  },
  {
   "cell_type": "markdown",
   "metadata": {},
   "source": [
    "Q8. Write the NumPy program to create a 5x5 matrix with row values\n",
    "ranging from 0 to 4?\n",
    "\n",
    "    Original array-\n",
    "    [[ 0. 0. 0. 0. 0.]\n",
    "    [ 0. 0. 0. 0. 0.]\n",
    "    [ 0. 0. 0. 0. 0.]\n",
    "    [ 0. 0. 0. 0. 0.]\n",
    "    [ 0. 0. 0. 0. 0.]]\n",
    "    Row values ranging from 0 to 4.\n",
    "    [[ 0. 1. 2. 3. 4.]\n",
    "    [ 0. 1. 2. 3. 4.]\n",
    "    [ 0. 1. 2. 3. 4.]\n",
    "    [ 0. 1. 2. 3. 4.]\n",
    "    [ 0. 1. 2. 3. 4.]]"
   ]
  },
  {
   "cell_type": "code",
   "execution_count": 32,
   "metadata": {},
   "outputs": [
    {
     "name": "stdout",
     "output_type": "stream",
     "text": [
      "Original array- \n",
      " [[0. 0. 0. 0. 0.]\n",
      " [0. 0. 0. 0. 0.]\n",
      " [0. 0. 0. 0. 0.]\n",
      " [0. 0. 0. 0. 0.]\n",
      " [0. 0. 0. 0. 0.]]\n",
      "Row values ranging from 0 to 4. \n",
      " [[0. 1. 2. 3. 4.]\n",
      " [0. 1. 2. 3. 4.]\n",
      " [0. 1. 2. 3. 4.]\n",
      " [0. 1. 2. 3. 4.]\n",
      " [0. 1. 2. 3. 4.]]\n"
     ]
    }
   ],
   "source": [
    "x=np.zeros((5,5))\n",
    "print(\"Original array- \\n\",x)\n",
    "y=x+np.arange(5)\n",
    "print(\"Row values ranging from 0 to 4. \\n\",y)"
   ]
  },
  {
   "cell_type": "markdown",
   "metadata": {},
   "source": [
    "Q9. Write the NumPy program to create an array of zeros and three\n",
    "column types (integer, float, character)?\n",
    "\n",
    "    Expected Output-\n",
    "    [(1, 2., b'Albert Einstein') (2, 2., b'Edmond Halley')\n",
    "    (3, 3., b'Gertrude B. Elion')]"
   ]
  },
  {
   "cell_type": "code",
   "execution_count": 33,
   "metadata": {},
   "outputs": [
    {
     "name": "stdout",
     "output_type": "stream",
     "text": [
      "[(1, 2., 'Albert Einstein') (2, 2., 'Edmond Halley')\n",
      " (3, 3., 'Gertrude B. Elion')]\n"
     ]
    }
   ],
   "source": [
    "x = np.zeros((3,), dtype=('i4,f8,U17'))\n",
    "new_data = [(1, 2., \"Albert Einstein\"), (2, 2., \"Edmond Halley\"), (3, 3., \"Gertrude B. Elion\")]\n",
    "x[:] = new_data\n",
    "print(x)"
   ]
  },
  {
   "cell_type": "markdown",
   "metadata": {},
   "source": [
    "Q10. Write the NumPy program to remove the negative values in the\n",
    "numpy array with 0?\n",
    "\n",
    "    Expected OutputOriginal array:\n",
    "    [-1 -4 0 2 3 4 5 -6]\n",
    "    Replace the negative values of the said array with 0-\n",
    "    [0 0 0 2 3 4 5 0]"
   ]
  },
  {
   "cell_type": "code",
   "execution_count": 34,
   "metadata": {},
   "outputs": [
    {
     "name": "stdout",
     "output_type": "stream",
     "text": [
      "Original array: \n",
      " [-1 -4  0  2  3  4  5 -6]\n",
      "Replace the negative values of the said array with 0- \n",
      " [0 0 0 2 3 4 5 0]\n"
     ]
    }
   ],
   "source": [
    "x=np.array([-1,-4,0,2,3,4,5,-6])\n",
    "print('Original array: \\n', x)\n",
    "x[x<0]=0\n",
    "print(\"Replace the negative values of the said array with 0- \\n\",x)"
   ]
  },
  {
   "cell_type": "markdown",
   "metadata": {},
   "source": [
    "Q11. Write the NumPy program to compute the histogram of a set of\n",
    "data?"
   ]
  },
  {
   "cell_type": "code",
   "execution_count": 35,
   "metadata": {},
   "outputs": [
    {
     "data": {
      "image/png": "[encoded data removed]",
      "text/plain": [
       "<Figure size 432x288 with 1 Axes>"
      ]
     },
     "metadata": {
      "needs_background": "light"
     },
     "output_type": "display_data"
    }
   ],
   "source": [
    "import matplotlib.pyplot as plt\n",
    "plt.hist([1,2,2,3,4,1,2], bins=[0,1,2,3,4,5,6])\n",
    "plt.show()"
   ]
  },
  {
   "cell_type": "markdown",
   "metadata": {},
   "source": [
    "Q12. Write the NumPy program to compute the line graph of a set of\n",
    "data?"
   ]
  },
  {
   "cell_type": "code",
   "execution_count": 36,
   "metadata": {},
   "outputs": [
    {
     "data": {
      "image/png": "[encoded data removed]",
      "text/plain": [
       "<Figure size 432x288 with 1 Axes>"
      ]
     },
     "metadata": {
      "needs_background": "light"
     },
     "output_type": "display_data"
    }
   ],
   "source": [
    "year = [1960, 1970, 1980, 1990, 2000, 2010]\n",
    "pop_pakistan = [44.91, 58.09, 78.07, 107.7, 138.5, 170.6]\n",
    "pop_india = [449.48, 553.57, 696.783, 870.133, 1000.4, 1309.1]\n",
    "plt.plot(year, pop_pakistan, color='g')\n",
    "plt.plot(year, pop_india, color='orange')\n",
    "plt.xlabel('Year')\n",
    "plt.ylabel('Population in million')\n",
    "plt.title('Pakistan India Population till 2010')\n",
    "plt.show()"
   ]
  },
  {
   "cell_type": "markdown",
   "metadata": {},
   "source": [
    "Q13. Write the NumPy program to extracts all the elements from second\n",
    "row from given (4x4) array?\n",
    "    \n",
    "    Sample OutputOriginal array-\n",
    "    [[ 0 1 2 3]\n",
    "    [ 4 5 6 7]\n",
    "    [ 8 9 10 11]\n",
    "    [12 13 14 15]]\n",
    "    Extracted data- Second row\n",
    "    [4 5 6 7]"
   ]
  },
  {
   "cell_type": "code",
   "execution_count": 38,
   "metadata": {},
   "outputs": [
    {
     "name": "stdout",
     "output_type": "stream",
     "text": [
      "Original array- \n",
      " [[ 0  1  2  3]\n",
      " [ 4  5  6  7]\n",
      " [ 8  9 10 11]\n",
      " [12 13 14 15]]\n",
      "Extracted data- second row \n",
      " [4 5 6 7]\n"
     ]
    }
   ],
   "source": [
    "x=np.array([[0,1,2,3],[4,5,6,7],[8,9,10,11],[12,13,14,15]])\n",
    "print('Original array- \\n',x)\n",
    "print('Extracted data- second row \\n', x[1,:])"
   ]
  },
  {
   "cell_type": "markdown",
   "metadata": {},
   "source": [
    "Q14. Write the NumPy program to extract first element of the second\n",
    "row and fourth element of fourth row from a given (4x4) array?\n",
    "\n",
    "    Sample OutputOriginal array-\n",
    "    [[ 0 1 2 3]\n",
    "    [ 4 5 6 7]\n",
    "    [ 8 9 10 11]\n",
    "    [12 13 14 15]]\n",
    "    Extracted data- First element of the second row and fourth element of fourth row\n",
    "    [ 4 15]\n"
   ]
  },
  {
   "cell_type": "code",
   "execution_count": 39,
   "metadata": {},
   "outputs": [
    {
     "name": "stdout",
     "output_type": "stream",
     "text": [
      "Original array- \n",
      " [[ 0  1  2  3]\n",
      " [ 4  5  6  7]\n",
      " [ 8  9 10 11]\n",
      " [12 13 14 15]]\n",
      "Extracted data- First element of the second row and fourth element of fourth row \n",
      " [ 4 15]\n"
     ]
    }
   ],
   "source": [
    "x=np.array([[0,1,2,3],[4,5,6,7],[8,9,10,11],[12,13,14,15]])\n",
    "print('Original array- \\n',x)\n",
    "y=x[[1,3],[0,3]]\n",
    "print('Extracted data- First element of the second row and fourth element of fourth row \\n',y)"
   ]
  },
  {
   "cell_type": "markdown",
   "metadata": {},
   "source": [
    "Q15. Write the NumPy program to add two arrays A and B of sizes (3,3)\n",
    "and (,3)?\n",
    "\n",
    "    Sample OutputOriginal arrayArray-1\n",
    "    [[1 1 1]\n",
    "    [1 1 1]\n",
    "    [1 1 1]]\n",
    "    Array-2\n",
    "    [0 1 2]\n",
    "    A + B:\n",
    "    [[1 2 3]\n",
    "    [1 2 3]\n",
    "    [1 2 3]]"
   ]
  },
  {
   "cell_type": "code",
   "execution_count": 40,
   "metadata": {},
   "outputs": [
    {
     "name": "stdout",
     "output_type": "stream",
     "text": [
      "[[1 2 3]\n",
      " [1 2 3]\n",
      " [1 2 3]]\n"
     ]
    }
   ],
   "source": [
    "Array_1=np.array([[1,1,1],[1,1,1],[1,1,1]])\n",
    "Array_2=np.array([0,1,2])  \n",
    "Array_3=Array_1+Array_2\n",
    "print(Array_3)"
   ]
  },
  {
   "cell_type": "markdown",
   "metadata": {},
   "source": [
    "Q16. Write the NumPy program to copy data from a given array to\n",
    "another array?\n",
    "\n",
    "    Sample OutputOriginal array-\n",
    "    [24 27 30 29 18 14]\n",
    "    Copy of the said array-\n",
    "    [24 27 30 29 18 14]"
   ]
  },
  {
   "cell_type": "code",
   "execution_count": 41,
   "metadata": {},
   "outputs": [
    {
     "name": "stdout",
     "output_type": "stream",
     "text": [
      "Original array- \n",
      " [24 27 30 29 18 14]\n",
      "copy of the said array- \n",
      " [24 27 30 29 18 14]\n"
     ]
    }
   ],
   "source": [
    "x=np.array([24,27,30,29,18,14])\n",
    "print('Original array- \\n',x)\n",
    "y=np.copy(x)\n",
    "print('copy of the said array- \\n',y)"
   ]
  },
  {
   "cell_type": "markdown",
   "metadata": {},
   "source": [
    "Q17. Write the NumPy program to calculate the sum of all columns of\n",
    "the 2D numpy array?\n",
    "    \n",
    "    Sample OutputOriginal array-\n",
    "    [[ 0 1 2 3 4 5 6 7 8]\n",
    "    [ 9 10 11 12 13 14 15 16 17]\n",
    "    [18 19 20 21 22 23 24 25 26]\n",
    "    [27 28 29 30 31 32 33 34 35]]\n",
    "    Sum of all columns-\n",
    "    [54 58 62 66 70 74 78 82 86]"
   ]
  },
  {
   "cell_type": "code",
   "execution_count": 42,
   "metadata": {},
   "outputs": [
    {
     "name": "stdout",
     "output_type": "stream",
     "text": [
      "Original array- \n",
      " [[ 0  1  2  3  4  5  6  7  8]\n",
      " [ 9 10 11 12 13 14 15 16 17]\n",
      " [18 19 20 21 22 23 24 25 26]\n",
      " [27 28 29 30 31 32 33 34 35]]\n",
      "Sum of all columns \n",
      " [54 58 62 66 70 74 78 82 86]\n"
     ]
    }
   ],
   "source": [
    "x=np.array([[0,1,2,3,4,5,6,7,8],[9,10,11,12,13,14,15,16,17],[18,19,20,21,22,23,24,25,26],[27,28,29,30,31,32,33,34,35]])\n",
    "print('Original array- \\n',x)\n",
    "y=np.sum(x, axis=0)\n",
    "print('Sum of all columns \\n',y)"
   ]
  },
  {
   "cell_type": "markdown",
   "metadata": {},
   "source": [
    "Q18. Write the NumPy program to calculate averages without NaNs\n",
    "along the given array?\n",
    "    \n",
    "    Sample OutputOriginal array-\n",
    "    [[10. 20. 30.]\n",
    "    [40. 50. nan]\n",
    "    [nan 6. nan]\n",
    "    [nan nan nan]]\n",
    "    Averages without NaNs along the said array-\n",
    "    [20. 45. 6. nan]"
   ]
  },
  {
   "cell_type": "code",
   "execution_count": 43,
   "metadata": {},
   "outputs": [
    {
     "name": "stdout",
     "output_type": "stream",
     "text": [
      "Original Array- \n",
      " [[10. 20. 30.]\n",
      " [40. 50. nan]\n",
      " [nan  6. nan]\n",
      " [nan nan nan]]\n",
      "Averages without NaNs along the said array- \n",
      " [20. 45.  6. nan]\n"
     ]
    },
    {
     "name": "stderr",
     "output_type": "stream",
     "text": [
      "C:\\Users\\ADE031\\Anaconda3\\lib\\site-packages\\ipykernel_launcher.py:3: RuntimeWarning: Mean of empty slice\n",
      "  This is separate from the ipykernel package so we can avoid doing imports until\n"
     ]
    }
   ],
   "source": [
    "x=np.array([[10.,20.,30.],[40.,50.,np.nan],[np.nan,6.,np.nan],[np.nan,np.nan,np.nan]])\n",
    "print('Original Array- \\n',x)\n",
    "y=np.nanmean(x,axis=1)\n",
    "print('Averages without NaNs along the said array- \\n',y)"
   ]
  },
  {
   "cell_type": "markdown",
   "metadata": {},
   "source": [
    "## Great Job!"
   ]
  }
 ],
 "metadata": {
  "kernelspec": {
   "display_name": "Python 3",
   "language": "python",
   "name": "python3"
  },
  "language_info": {
   "codemirror_mode": {
    "name": "ipython",
    "version": 3
   },
   "file_extension": ".py",
   "mimetype": "text/x-python",
   "name": "python",
   "nbconvert_exporter": "python",
   "pygments_lexer": "ipython3",
   "version": "3.7.1"
  }
 },
 "nbformat": 4,
 "nbformat_minor": 2
}
