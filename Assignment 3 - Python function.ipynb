{
 "cells": [
  {
   "cell_type": "markdown",
   "metadata": {},
   "source": [
    "## Problem Statement"
   ]
  },
  {
   "cell_type": "markdown",
   "metadata": {},
   "source": [
    "Q.1 Write a function to compute 5/0 and use try/except to catch the exceptions."
   ]
  },
  {
   "cell_type": "code",
   "execution_count": 13,
   "metadata": {},
   "outputs": [
    {
     "name": "stdout",
     "output_type": "stream",
     "text": [
      "enter numerator :5\n",
      "enter denominator) :0\n",
      "devide by Zero error\n",
      "carried out division sucessfully\n"
     ]
    }
   ],
   "source": [
    "def ask_devide():\n",
    "    try:\n",
    "        val1=int(input('enter numerator :'))\n",
    "        val2=int(input('enter denominator) :'))\n",
    "        x=val1/val2\n",
    "        print(x)\n",
    "    except:\n",
    "        print('devide by Zero error')\n",
    "        \n",
    "    finally:\n",
    "        print('carried out division sucessfully')\n",
    "\n",
    "ask_devide()"
   ]
  },
  {
   "cell_type": "markdown",
   "metadata": {},
   "source": [
    "Q.2 Implement a Python program to generate all sentences where subject is in [\"Americans\",\n",
    "\"Indians\"] and verb is in [\"Play\", \"watch\"] and the object is in [\"Baseball\",\"cricket\"].\n",
    "\n",
    "    Hint: Subject,Verb and Object should be declared in the program as shown below.\n",
    "    subjects=[\"Americans \",\"Indians\"]\n",
    "    verbs=[\"play\",\"watch\"]\n",
    "    objects=[\"Baseball\",\"Cricket\"]\n",
    "\n",
    "    Output should come as below:\n",
    "    Americans play Baseball.\n",
    "    Americans play Cricket.\n",
    "    Americans watch Baseball.\n",
    "    Americans watch Cricket.\n",
    "    Indians play Baseball.\n",
    "    Indians play Cricket.\n",
    "    Indians watch Baseball.\n",
    "    Indians watch Cricket."
   ]
  },
  {
   "cell_type": "code",
   "execution_count": 14,
   "metadata": {},
   "outputs": [
    {
     "name": "stdout",
     "output_type": "stream",
     "text": [
      "Americans  play Baseball\n",
      "Americans  play Cricket\n",
      "Americans  watch Baseball\n",
      "Americans  watch Cricket\n",
      "Indians play Baseball\n",
      "Indians play Cricket\n",
      "Indians watch Baseball\n",
      "Indians watch Cricket\n"
     ]
    }
   ],
   "source": [
    "subjects=[\"Americans \",\"Indians\"]\n",
    "verbs=[\"play\",\"watch\"]\n",
    "objects=[\"Baseball\",\"Cricket\"]\n",
    "\n",
    "all_combinations=[ sub + \" \" + ve + ' ' + ob for sub in subjects for ve in verbs for ob in objects]\n",
    "\n",
    "for sentence in all_combinations: \n",
    "    print(sentence)"
   ]
  },
  {
   "cell_type": "markdown",
   "metadata": {},
   "source": [
    "Q.3 Write a function so that the columns of the output matrix are powers of the input vector.\n",
    "The order of the powers is determined by the increasing boolean argument. Specifically, when\n",
    "increasing is False, the i-th output column is the input vector raised element-wise to the power\n",
    "of N - i - 1.\n",
    "\n",
    "    HINT: Such a matrix with a geometric progression in each row is named for Alexandre Theophile Vandermonde."
   ]
  },
  {
   "cell_type": "code",
   "execution_count": 16,
   "metadata": {},
   "outputs": [
    {
     "data": {
      "text/plain": [
       "array([[ 1,  1,  1,  1],\n",
       "       [ 8,  4,  2,  1],\n",
       "       [27,  9,  3,  1],\n",
       "       [64, 16,  4,  1]], dtype=int32)"
      ]
     },
     "execution_count": 16,
     "metadata": {},
     "output_type": "execute_result"
    }
   ],
   "source": [
    "import numpy as np\n",
    "x=[1,2,3,4]\n",
    "x=np.array(x)\n",
    "N=4\n",
    "\n",
    "def vandermonde(p,N,q=True):\n",
    "    if (q):\n",
    "        return (np.column_stack([p**(i) for i in range(N)]))\n",
    "    else: \n",
    "        return (np.column_stack([p**(N-1-i) for i in range(N)]))\n",
    "\n",
    "vandermonde(x,N, False)"
   ]
  }
 ],
 "metadata": {
  "kernelspec": {
   "display_name": "Python 3",
   "language": "python",
   "name": "python3"
  },
  "language_info": {
   "codemirror_mode": {
    "name": "ipython",
    "version": 3
   },
   "file_extension": ".py",
   "mimetype": "text/x-python",
   "name": "python",
   "nbconvert_exporter": "python",
   "pygments_lexer": "ipython3",
   "version": "3.7.1"
  }
 },
 "nbformat": 4,
 "nbformat_minor": 2
}
