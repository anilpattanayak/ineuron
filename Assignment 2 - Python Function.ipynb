{
 "cells": [
  {
   "cell_type": "markdown",
   "metadata": {},
   "source": [
    "## Problem Statement"
   ]
  },
  {
   "cell_type": "markdown",
   "metadata": {},
   "source": [
    "Q.1 Write a Python Program to implement your own myreduce() function which works exactly like\n",
    "Python's built-in function reduce()\n"
   ]
  },
  {
   "cell_type": "code",
   "execution_count": 8,
   "metadata": {},
   "outputs": [
    {
     "data": {
      "text/plain": [
       "34"
      ]
     },
     "execution_count": 8,
     "metadata": {},
     "output_type": "execute_result"
    }
   ],
   "source": [
    "def myreduce (my_function, list_item):\n",
    "    final_value=list_item[0]\n",
    "    for item in list_item[1:]:\n",
    "        final_value= my_function(final_value,item)\n",
    "    return final_value\n",
    "        \n",
    "# Test myreduce program to get the greatest number\n",
    "my_function=lambda x,y: x if x>y else y\n",
    "\n",
    "lst=[-20,34,1,5,8]\n",
    "myreduce(my_function,lst)"
   ]
  },
  {
   "cell_type": "markdown",
   "metadata": {},
   "source": [
    "Q.2 Write a Python program to implement your own myfilter() function which works exactly like\n",
    "Python's built-in function filter()"
   ]
  },
  {
   "cell_type": "code",
   "execution_count": 9,
   "metadata": {},
   "outputs": [
    {
     "data": {
      "text/plain": [
       "[100, 400, 44]"
      ]
     },
     "execution_count": 9,
     "metadata": {},
     "output_type": "execute_result"
    }
   ],
   "source": [
    "def myfilter (my_function, list_item):\n",
    "    final_value=[]\n",
    "    for item in list_item:\n",
    "        if my_function(item)== True:\n",
    "            final_value.append(item)\n",
    "    return final_value\n",
    "        \n",
    "# Test myfilter for even numbers\n",
    "my_function= lambda x:  (x % 2) ==0 \n",
    "myfilter(my_function,[-3,100,1,1,400,31,44])"
   ]
  },
  {
   "cell_type": "markdown",
   "metadata": {},
   "source": [
    "Q.3 Implement List comprehensions to produce the following lists.\n",
    "   Write List comprehensions to produce the following Lists\n",
    "   \n",
    "    ['A', 'C', 'A', 'D', 'G', 'I', ’L’, ‘ D’]\n",
    "   \n",
    "    ['x', 'xx', 'xxx', 'xxxx', 'y', 'yy', 'yyy', 'yyyy', 'z', 'zz', 'zzz', 'zzzz']\n",
    "\n",
    "    ['x', 'y', 'z', 'xx', 'yy', 'zz', 'xx', 'yy', 'zz', 'xxxx', 'yyyy', 'zzzz']\n",
    "    \n",
    "    [[2], [3], [4], [3], [4], [5], [4], [5], [6]]\n",
    "\n",
    "    [[2, 3, 4, 5], [3, 4, 5, 6], [4, 5, 6, 7], [5, 6, 7, 8]]\n",
    "\n",
    "    [(1, 1), (2, 1), (3, 1), (1, 2), (2, 2), (3, 2), (1, 3), (2, 3), (3, 3)]"
   ]
  },
  {
   "cell_type": "code",
   "execution_count": 10,
   "metadata": {},
   "outputs": [
    {
     "name": "stdout",
     "output_type": "stream",
     "text": [
      "['A', 'C', 'A', 'D', 'G', 'I', 'L', 'D']\n",
      "['x', 'xx', 'xxx', 'xxxx', 'y', 'yy', 'yyy', 'yyyy', 'z', 'zz', 'zzz', 'zzzz']\n",
      "['x', 'y', 'z', 'xx', 'yy', 'zz', 'xxx', 'yyy', 'zzz', 'xxxx', 'yyyy', 'zzzz']\n",
      "[[2], [3], [4], [3], [4], [5], [4], [5], [6]]\n",
      "[[2, 3, 4, 5], [3, 4, 5, 6], [4, 5, 6, 7], [5, 6, 7, 8]]\n",
      "[(1, 1), (2, 1), (3, 1), (1, 2), (2, 2), (3, 2), (1, 3), (2, 3), (3, 3)]\n"
     ]
    }
   ],
   "source": [
    "word = \"ACADGILD\"\n",
    "x=[char for char in word]\n",
    "print(x)\n",
    "\n",
    "new_list=['x', 'y','z']\n",
    "\n",
    "x=[char*num for char in new_list for num in range(1,5)]\n",
    "print(x) \n",
    "\n",
    "x=[char*num for num in range(1,5) for char in new_list]\n",
    "print(x) \n",
    "\n",
    "new_list=[2, 3, 4, 5, 6]\n",
    "\n",
    "x=[new_list[i+j: i+j+1] for j in range(3) for i in range(3)] \n",
    "print(x)\n",
    "\n",
    "new_list=[2, 3, 4, 5, 6,7,8]\n",
    "x=[new_list[j: j+4] for j in range(4)] \n",
    "print(x)\n",
    "\n",
    "x=[(j,i) for i in range (1,4) for j in range(1,4)]\n",
    "print(x)"
   ]
  },
  {
   "cell_type": "markdown",
   "metadata": {},
   "source": [
    "Q.4 Implement a function longestWord() that takes a list of words and returns the longest one."
   ]
  },
  {
   "cell_type": "code",
   "execution_count": 29,
   "metadata": {},
   "outputs": [
    {
     "name": "stdout",
     "output_type": "stream",
     "text": [
      " How many numbers of words, you like to enter ?5\n",
      "enter word1: sdf\n",
      "enter word2: dfg\n",
      "enter word3: dfgh\n",
      "enter word4: asdrjy\n",
      "enter word5: asdfghj\n",
      "['sdf', 'dfg', 'dfgh', 'asdrjy', 'asdfghj']\n"
     ]
    },
    {
     "data": {
      "text/plain": [
       "'asdfghj'"
      ]
     },
     "execution_count": 29,
     "metadata": {},
     "output_type": "execute_result"
    }
   ],
   "source": [
    "#from functools import reduce\n",
    "\n",
    "word_count=int(input(\" How many numbers of words, you like to enter ?\" ))\n",
    "lst=[]\n",
    "for i in range(word_count):\n",
    "    lst.append(input('enter word' + str (i+1) +': ' ))\n",
    "print (lst)\n",
    "\n",
    "#longest_word= lambda x,y: x if len(x)>len(y) else y\n",
    "\n",
    "#reduce(longest_word, lst)\n",
    "\n",
    "def longestWord(words):\n",
    "    result=words[0]\n",
    "    for i in range(len(words)-1):\n",
    "        if len(words[i+1]) > len(result):\n",
    "            result=words[i+1]\n",
    "    return result\n",
    "\n",
    "longestWord(lst)\n",
    "        "
   ]
  },
  {
   "cell_type": "markdown",
   "metadata": {},
   "source": [
    "Q.5 Write a Python Program(with class concepts) to find the area of the triangle using the below\n",
    "formula.\n",
    "\n",
    "area = (s*(s-a)*(s-b)*(s-c)) ** 0.5\n",
    "\n",
    "Function to take the length of the sides of triangle from user should be defined in the parent\n",
    "class and function to calculate the area should be defined in subclass."
   ]
  },
  {
   "cell_type": "code",
   "execution_count": 63,
   "metadata": {},
   "outputs": [
    {
     "name": "stdout",
     "output_type": "stream",
     "text": [
      "Enter first side: 12\n",
      "Enter second side: 12\n",
      "Enter third side: 12\n",
      "The area of triangle:  62.353829072479584\n"
     ]
    }
   ],
   "source": [
    "import math as m\n",
    "\n",
    "class parent_class:\n",
    "    def __init__(self):\n",
    "        self.a=float(input(\"Enter first side: \"))\n",
    "        self.b=float(input(\"Enter second side: \"))\n",
    "        self.c=float(input(\"Enter third side: \"))\n",
    "        \n",
    "class subclass(parent_class):\n",
    "    def __init__(self, *args):\n",
    "        super(subclass,self). __init__(*args)\n",
    "        \n",
    "    def calculation(self):\n",
    "        s=(self.a+self.b+self.c)/2\n",
    "        self.area=m.sqrt(s*(s-self.a)*(s-self.b)*(s-self.c))\n",
    "        return self.area\n",
    "    \n",
    "cal=subclass()\n",
    "x=cal.calculation()\n",
    "print(\"The area of triangle: \", x)"
   ]
  },
  {
   "cell_type": "markdown",
   "metadata": {},
   "source": [
    "Q.6 Write a function filter_long_words() that takes a list of words and an integer n and returns the list\n",
    "of words that are longer than n."
   ]
  },
  {
   "cell_type": "code",
   "execution_count": 36,
   "metadata": {},
   "outputs": [
    {
     "name": "stdout",
     "output_type": "stream",
     "text": [
      " How many numbers of words, you like to enter ?4\n",
      "enter word1: dsffg\n",
      "enter word2: dfgtrhyj\n",
      "enter word3: trhtyi\n",
      "enter word4: rtru6\n",
      "['dsffg', 'dfgtrhyj', 'trhtyi', 'rtru6']\n",
      " Enter your test n value : 3\n"
     ]
    },
    {
     "data": {
      "text/plain": [
       "['dsffg', 'dfgtrhyj', 'trhtyi', 'rtru6']"
      ]
     },
     "execution_count": 36,
     "metadata": {},
     "output_type": "execute_result"
    }
   ],
   "source": [
    "word_count=int(input(\" How many numbers of words, you like to enter ?\" ))\n",
    "lst=[]\n",
    "for i in range(word_count):\n",
    "    lst.append(input('enter word' + str (i+1) +': ' ))\n",
    "print (lst)\n",
    "\n",
    "n=int(input(\" Enter your test n value : \" ))\n",
    "\n",
    "def my_function(word):\n",
    "    word_list=[]\n",
    "    for item in word:\n",
    "        if(len(item)>n):\n",
    "            word_list.append(item)\n",
    "    return word_list\n",
    "\n",
    "my_function(lst)"
   ]
  },
  {
   "cell_type": "markdown",
   "metadata": {},
   "source": [
    "Q.7 Write a Python program using function concept that maps list of words into a list of integers\n",
    "representing the lengths of the corresponding words.\n",
    "    \n",
    "    Hint: If a list [ ab,cde,erty] is passed on to the python function output should come as [2,3,4]\n",
    "    Here 2,3 and 4 are the lengths of the words in the list."
   ]
  },
  {
   "cell_type": "code",
   "execution_count": 37,
   "metadata": {},
   "outputs": [
    {
     "name": "stdout",
     "output_type": "stream",
     "text": [
      " How many numbers of words, you like to enter ?5\n",
      "enter word1: asderwy56\n",
      "enter word2: ASFRRTU76\n",
      "enter word3: SDFFH\n",
      "enter word4: sdgtru\n",
      "enter word5: dvj\n",
      "['asderwy56', 'ASFRRTU76', 'SDFFH', 'sdgtru', 'dvj']\n"
     ]
    },
    {
     "data": {
      "text/plain": [
       "[9, 9, 5, 6, 3]"
      ]
     },
     "execution_count": 37,
     "metadata": {},
     "output_type": "execute_result"
    }
   ],
   "source": [
    "n=int(input(\" How many numbers of words, you like to enter ?\" ))\n",
    "lst=[]\n",
    "for i in range(n):\n",
    "    lst.append(input('enter word' + str (i+1) +': ' ))\n",
    "print (lst)\n",
    "\n",
    "def my_function(word):\n",
    "    length=[]\n",
    "    for item in word:\n",
    "        length.append(len(item))\n",
    "    return length\n",
    "my_function(lst)"
   ]
  },
  {
   "cell_type": "markdown",
   "metadata": {},
   "source": [
    "Q.8 Write a Python function which takes a character (i.e. a string of length 1) and returns True if it is\n",
    "a vowel, False otherwise."
   ]
  },
  {
   "cell_type": "code",
   "execution_count": 39,
   "metadata": {},
   "outputs": [
    {
     "name": "stdout",
     "output_type": "stream",
     "text": [
      "enter a character: b\n"
     ]
    },
    {
     "data": {
      "text/plain": [
       "False"
      ]
     },
     "execution_count": 39,
     "metadata": {},
     "output_type": "execute_result"
    }
   ],
   "source": [
    "char= input ( 'enter a character: ' )\n",
    "test=lambda x: x in list('aieou')\n",
    "\n",
    "test(char)"
   ]
  },
  {
   "cell_type": "markdown",
   "metadata": {},
   "source": [
    "## Great job!"
   ]
  }
 ],
 "metadata": {
  "kernelspec": {
   "display_name": "Python 3",
   "language": "python",
   "name": "python3"
  },
  "language_info": {
   "codemirror_mode": {
    "name": "ipython",
    "version": 3
   },
   "file_extension": ".py",
   "mimetype": "text/x-python",
   "name": "python",
   "nbconvert_exporter": "python",
   "pygments_lexer": "ipython3",
   "version": "3.7.1"
  }
 },
 "nbformat": 4,
 "nbformat_minor": 2
}
